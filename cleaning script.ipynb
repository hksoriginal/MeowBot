{
 "cells": [
  {
   "cell_type": "code",
   "execution_count": 1,
   "id": "47cca9bb",
   "metadata": {},
   "outputs": [],
   "source": [
    "import re"
   ]
  },
  {
   "cell_type": "code",
   "execution_count": null,
   "id": "bac5cb4e",
   "metadata": {},
   "outputs": [],
   "source": [
    "while True:\n",
    "    text = str(input('Enter text: \\n')).lower()\n",
    "    print('\\n\\n')\n",
    "    review = re.sub('\\n',' ',re.sub('[.]','',text))\n",
    "    print(review+'.')\n",
    "    print()\n"
   ]
  },
  {
   "cell_type": "code",
   "execution_count": null,
   "id": "a061049c",
   "metadata": {},
   "outputs": [],
   "source": []
  }
 ],
 "metadata": {
  "kernelspec": {
   "display_name": "Python 3 (ipykernel)",
   "language": "python",
   "name": "python3"
  },
  "language_info": {
   "codemirror_mode": {
    "name": "ipython",
    "version": 3
   },
   "file_extension": ".py",
   "mimetype": "text/x-python",
   "name": "python",
   "nbconvert_exporter": "python",
   "pygments_lexer": "ipython3",
   "version": "3.7.0"
  }
 },
 "nbformat": 4,
 "nbformat_minor": 5
}
