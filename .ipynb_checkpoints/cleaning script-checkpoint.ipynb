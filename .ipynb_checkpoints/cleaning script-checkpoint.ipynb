{
 "cells": [
  {
   "cell_type": "code",
   "execution_count": 1,
   "id": "47cca9bb",
   "metadata": {},
   "outputs": [],
   "source": [
    "import re"
   ]
  },
  {
   "cell_type": "code",
   "execution_count": 2,
   "id": "bac5cb4e",
   "metadata": {},
   "outputs": [
    {
     "name": "stdout",
     "output_type": "stream",
     "text": [
      "Enter text: \n",
      "Python is a high-level, interpreted, general-purpose programming language. Being a general-purpose language, it can be used to build almost any type of application with the right tools/libraries. Additionally, python supports objects, modules, threads, exception-handling, and automatic memory management which help in modelling real-world problems and building applications to solve these problems.\n",
      "\n",
      "\n",
      "\n",
      "python is a high-level, interpreted, general-purpose programming language being a general-purpose language, it can be used to build almost any type of application with the right tools/libraries additionally, python supports objects, modules, threads, exception-handling, and automatic memory management which help in modelling real-world problems and building applications to solve these problems.\n",
      "\n",
      "Enter text: \n",
      "Python is an interpreted language, executes each statement line by line and thus type-checking is done on the fly, during execution. Hence, Python is a Dynamically Typed Language\n",
      "\n",
      "\n",
      "\n",
      "python is an interpreted language, executes each statement line by line and thus type-checking is done on the fly, during execution hence, python is a dynamically typed language.\n",
      "\n",
      "Enter text: \n",
      "Statistics is the discipline that studies and develops techniques for gathering, processing, analyzing, interpreting, and communicating statistical information (using information gathered from research)\n",
      "\n",
      "\n",
      "\n",
      "statistics is the discipline that studies and develops techniques for gathering, processing, analyzing, interpreting, and communicating statistical information (using information gathered from research).\n",
      "\n",
      "Enter text: \n",
      "The statistical significance of an experiment's insights can be assessed using hypothesis testing. Hypothesis testing examines the probability of a given experiment's results occurring by chance. The null hypothesis is defined first, and then p-values are computed. If the null hypothesis is true, other values are determined as well. As its name suggests, the alpha value indicates the degree of significance.\n",
      "\n",
      "\n",
      "\n",
      "the statistical significance of an experiment's insights can be assessed using hypothesis testing hypothesis testing examines the probability of a given experiment's results occurring by chance the null hypothesis is defined first, and then p-values are computed if the null hypothesis is true, other values are determined as well as its name suggests, the alpha value indicates the degree of significance.\n",
      "\n",
      "Enter text: \n",
      "The Pareto principle states that 80% of the effects or results in an experiment come from 20% of the causes. The Pareto principle is often applied to business to explain that 80% of the profits or results come from 20% of the efforts. To illustrate, 80% of customers buy 20% of the items\n",
      "\n",
      "\n",
      "\n",
      "the pareto principle states that 80% of the effects or results in an experiment come from 20% of the causes the pareto principle is often applied to business to explain that 80% of the profits or results come from 20% of the efforts to illustrate, 80% of customers buy 20% of the items.\n",
      "\n",
      "Enter text: \n",
      "Cherry-picking is the act of exclusively taking the bits of information that support a particular conclusion and ignoring all the bits of information that contradict it.\n",
      "\n",
      "\n",
      "\n",
      "cherry-picking is the act of exclusively taking the bits of information that support a particular conclusion and ignoring all the bits of information that contradict it.\n",
      "\n",
      "Enter text: \n",
      "P-hacking, also known as data collection or analysis manipulation, is a technique that produces significant patterns even though they have no underlying effect.\n",
      "\n",
      "\n",
      "\n",
      "p-hacking, also known as data collection or analysis manipulation, is a technique that produces significant patterns even though they have no underlying effect.\n",
      "\n",
      "Enter text: \n",
      "Data Science, which is a scientific discipline that employs data, includes interdisciplinary methods, algorithms, and even the procedure for extracting data knowledge. The data can be either coded or uncoerced.\n",
      "\n",
      "\n",
      "\n",
      "data science, which is a scientific discipline that employs data, includes interdisciplinary methods, algorithms, and even the procedure for extracting data knowledge the data can be either coded or uncoerced.\n",
      "\n",
      "Enter text: \n",
      "sampling? Selecting an unbiased or random subset of individual observations in a population is regarded as part of the statistical practice of sampling. In order to obtain some understanding of the population, sampling is used\n",
      "\n",
      "\n",
      "\n",
      "sampling? selecting an unbiased or random subset of individual observations in a population is regarded as part of the statistical practice of sampling in order to obtain some understanding of the population, sampling is used.\n",
      "\n",
      "Enter text: \n",
      "Mean is an essential concept in mathematics and statistics. The mean is the average or the most common value in a collection of numbers.  In statistics, it is a measure of central tendency of a probability distribution along median and mode. It is also referred to as an expected value.  It is a statistical concept that carries a major significance in finance. The concept is used in various financial fields, including but not limited to portfolio management and business valuation.\n",
      "\n",
      "\n",
      "\n",
      "mean is an essential concept in mathematics and statistics the mean is the average or the most common value in a collection of numbers  in statistics, it is a measure of central tendency of a probability distribution along median and mode it is also referred to as an expected value  it is a statistical concept that carries a major significance in finance the concept is used in various financial fields, including but not limited to portfolio management and business valuation.\n",
      "\n",
      "Enter text: \n",
      "The mode is the value that appears most frequently in a data set. A set of data may have one mode, more than one mode, or no mode at all. Other popular measures of central tendency include the mean, or the average of a set, and the median, the middle value in a set.\n",
      "\n",
      "\n",
      "\n",
      "the mode is the value that appears most frequently in a data set a set of data may have one mode, more than one mode, or no mode at all other popular measures of central tendency include the mean, or the average of a set, and the median, the middle value in a set.\n",
      "\n",
      "Enter text: \n",
      "The median is the middle number in a sorted, ascending or descending list of numbers and can be more descriptive of that data set than the average. It is the point above and below which half (50%) the observed data falls, and so represents the midpoint of the data.\n",
      "\n",
      "\n",
      "\n",
      "the median is the middle number in a sorted, ascending or descending list of numbers and can be more descriptive of that data set than the average it is the point above and below which half (50%) the observed data falls, and so represents the midpoint of the data.\n",
      "\n"
     ]
    },
    {
     "ename": "KeyboardInterrupt",
     "evalue": "Interrupted by user",
     "output_type": "error",
     "traceback": [
      "\u001b[1;31m---------------------------------------------------------------------------\u001b[0m",
      "\u001b[1;31mKeyboardInterrupt\u001b[0m                         Traceback (most recent call last)",
      "\u001b[1;32m~\\AppData\\Local\\Temp\\ipykernel_11096\\3826064679.py\u001b[0m in \u001b[0;36m<module>\u001b[1;34m\u001b[0m\n\u001b[0;32m      1\u001b[0m \u001b[1;32mwhile\u001b[0m \u001b[1;32mTrue\u001b[0m\u001b[1;33m:\u001b[0m\u001b[1;33m\u001b[0m\u001b[0m\n\u001b[1;32m----> 2\u001b[1;33m     \u001b[0mtext\u001b[0m \u001b[1;33m=\u001b[0m \u001b[0mstr\u001b[0m\u001b[1;33m(\u001b[0m\u001b[0minput\u001b[0m\u001b[1;33m(\u001b[0m\u001b[1;34m'Enter text: \\n'\u001b[0m\u001b[1;33m)\u001b[0m\u001b[1;33m)\u001b[0m\u001b[1;33m.\u001b[0m\u001b[0mlower\u001b[0m\u001b[1;33m(\u001b[0m\u001b[1;33m)\u001b[0m\u001b[1;33m\u001b[0m\u001b[0m\n\u001b[0m\u001b[0;32m      3\u001b[0m     \u001b[0mprint\u001b[0m\u001b[1;33m(\u001b[0m\u001b[1;34m'\\n\\n'\u001b[0m\u001b[1;33m)\u001b[0m\u001b[1;33m\u001b[0m\u001b[0m\n\u001b[0;32m      4\u001b[0m     \u001b[0mreview\u001b[0m \u001b[1;33m=\u001b[0m \u001b[0mre\u001b[0m\u001b[1;33m.\u001b[0m\u001b[0msub\u001b[0m\u001b[1;33m(\u001b[0m\u001b[1;34m'\\n'\u001b[0m\u001b[1;33m,\u001b[0m\u001b[1;34m' '\u001b[0m\u001b[1;33m,\u001b[0m\u001b[0mre\u001b[0m\u001b[1;33m.\u001b[0m\u001b[0msub\u001b[0m\u001b[1;33m(\u001b[0m\u001b[1;34m'[.]'\u001b[0m\u001b[1;33m,\u001b[0m\u001b[1;34m''\u001b[0m\u001b[1;33m,\u001b[0m\u001b[0mtext\u001b[0m\u001b[1;33m)\u001b[0m\u001b[1;33m)\u001b[0m\u001b[1;33m\u001b[0m\u001b[0m\n\u001b[0;32m      5\u001b[0m     \u001b[0mprint\u001b[0m\u001b[1;33m(\u001b[0m\u001b[0mreview\u001b[0m\u001b[1;33m+\u001b[0m\u001b[1;34m'.'\u001b[0m\u001b[1;33m)\u001b[0m\u001b[1;33m\u001b[0m\u001b[0m\n",
      "\u001b[1;32m~\\AppData\\Local\\Programs\\Python\\Python37\\lib\\site-packages\\ipykernel\\kernelbase.py\u001b[0m in \u001b[0;36mraw_input\u001b[1;34m(self, prompt)\u001b[0m\n\u001b[0;32m   1179\u001b[0m             \u001b[0mself\u001b[0m\u001b[1;33m.\u001b[0m\u001b[0m_parent_ident\u001b[0m\u001b[1;33m[\u001b[0m\u001b[1;34m\"shell\"\u001b[0m\u001b[1;33m]\u001b[0m\u001b[1;33m,\u001b[0m\u001b[1;33m\u001b[0m\u001b[0m\n\u001b[0;32m   1180\u001b[0m             \u001b[0mself\u001b[0m\u001b[1;33m.\u001b[0m\u001b[0mget_parent\u001b[0m\u001b[1;33m(\u001b[0m\u001b[1;34m\"shell\"\u001b[0m\u001b[1;33m)\u001b[0m\u001b[1;33m,\u001b[0m\u001b[1;33m\u001b[0m\u001b[0m\n\u001b[1;32m-> 1181\u001b[1;33m             \u001b[0mpassword\u001b[0m\u001b[1;33m=\u001b[0m\u001b[1;32mFalse\u001b[0m\u001b[1;33m,\u001b[0m\u001b[1;33m\u001b[0m\u001b[0m\n\u001b[0m\u001b[0;32m   1182\u001b[0m         )\n\u001b[0;32m   1183\u001b[0m \u001b[1;33m\u001b[0m\u001b[0m\n",
      "\u001b[1;32m~\\AppData\\Local\\Programs\\Python\\Python37\\lib\\site-packages\\ipykernel\\kernelbase.py\u001b[0m in \u001b[0;36m_input_request\u001b[1;34m(self, prompt, ident, parent, password)\u001b[0m\n\u001b[0;32m   1217\u001b[0m             \u001b[1;32mexcept\u001b[0m \u001b[0mKeyboardInterrupt\u001b[0m\u001b[1;33m:\u001b[0m\u001b[1;33m\u001b[0m\u001b[0m\n\u001b[0;32m   1218\u001b[0m                 \u001b[1;31m# re-raise KeyboardInterrupt, to truncate traceback\u001b[0m\u001b[1;33m\u001b[0m\u001b[1;33m\u001b[0m\u001b[0m\n\u001b[1;32m-> 1219\u001b[1;33m                 \u001b[1;32mraise\u001b[0m \u001b[0mKeyboardInterrupt\u001b[0m\u001b[1;33m(\u001b[0m\u001b[1;34m\"Interrupted by user\"\u001b[0m\u001b[1;33m)\u001b[0m \u001b[1;32mfrom\u001b[0m \u001b[1;32mNone\u001b[0m\u001b[1;33m\u001b[0m\u001b[0m\n\u001b[0m\u001b[0;32m   1220\u001b[0m             \u001b[1;32mexcept\u001b[0m \u001b[0mException\u001b[0m\u001b[1;33m:\u001b[0m\u001b[1;33m\u001b[0m\u001b[0m\n\u001b[0;32m   1221\u001b[0m                 \u001b[0mself\u001b[0m\u001b[1;33m.\u001b[0m\u001b[0mlog\u001b[0m\u001b[1;33m.\u001b[0m\u001b[0mwarning\u001b[0m\u001b[1;33m(\u001b[0m\u001b[1;34m\"Invalid Message:\"\u001b[0m\u001b[1;33m,\u001b[0m \u001b[0mexc_info\u001b[0m\u001b[1;33m=\u001b[0m\u001b[1;32mTrue\u001b[0m\u001b[1;33m)\u001b[0m\u001b[1;33m\u001b[0m\u001b[0m\n",
      "\u001b[1;31mKeyboardInterrupt\u001b[0m: Interrupted by user"
     ]
    }
   ],
   "source": [
    "while True:\n",
    "    text = str(input('Enter text: \\n')).lower()\n",
    "    print('\\n\\n')\n",
    "    review = re.sub('\\n',' ',re.sub('[.]','',text))\n",
    "    print(review+'.')\n",
    "    print()\n"
   ]
  },
  {
   "cell_type": "code",
   "execution_count": null,
   "id": "a061049c",
   "metadata": {},
   "outputs": [],
   "source": []
  }
 ],
 "metadata": {
  "kernelspec": {
   "display_name": "Python 3 (ipykernel)",
   "language": "python",
   "name": "python3"
  },
  "language_info": {
   "codemirror_mode": {
    "name": "ipython",
    "version": 3
   },
   "file_extension": ".py",
   "mimetype": "text/x-python",
   "name": "python",
   "nbconvert_exporter": "python",
   "pygments_lexer": "ipython3",
   "version": "3.7.0"
  }
 },
 "nbformat": 4,
 "nbformat_minor": 5
}
